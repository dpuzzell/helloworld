{
 "cells": [
  {
   "cell_type": "code",
   "execution_count": 16,
   "id": "6d3ac40f-0eca-4d86-affd-4925987b5423",
   "metadata": {},
   "outputs": [],
   "source": [
    "import os, csv\n",
    "import random"
   ]
  },
  {
   "cell_type": "code",
   "execution_count": 2,
   "id": "61c73f58-eeb0-43b7-9f26-074c0effe049",
   "metadata": {},
   "outputs": [
    {
     "ename": "SyntaxError",
     "evalue": "unmatched ')' (<ipython-input-2-3844d08f545d>, line 1)",
     "output_type": "error",
     "traceback": [
      "\u001b[0;36m  Input \u001b[0;32mIn [2]\u001b[0;36m\u001b[0m\n\u001b[0;31m    print(os.getcwd))\u001b[0m\n\u001b[0m                    ^\u001b[0m\n\u001b[0;31mSyntaxError\u001b[0m\u001b[0;31m:\u001b[0m unmatched ')'\n"
     ]
    }
   ],
   "source": [
    "print(os.getcwd))"
   ]
  },
  {
   "cell_type": "code",
   "execution_count": 3,
   "id": "0aaaa5a1-1610-4587-a36e-783b8af288b0",
   "metadata": {},
   "outputs": [
    {
     "name": "stdout",
     "output_type": "stream",
     "text": [
      "/Users/dpuzzell/helloworld/helloworld\n"
     ]
    }
   ],
   "source": [
    "print(os.getcwd())"
   ]
  },
  {
   "cell_type": "code",
   "execution_count": 4,
   "id": "78a570d8-0e8f-4e04-b94c-8045bffe10b5",
   "metadata": {},
   "outputs": [
    {
     "name": "stdout",
     "output_type": "stream",
     "text": [
      "/Users/dpuzzell/helloworld/helloworld/roster.csv\n"
     ]
    }
   ],
   "source": [
    "path1 = os.getcwd()\n",
    "path2 = 'roster.csv'\n",
    "csvFilePath = os.path.join(path1, path2)\n",
    "print(csvFilePath)"
   ]
  },
  {
   "cell_type": "markdown",
   "id": "1ffa5a13-eff6-40bd-80a3-9dfd9eaf30b5",
   "metadata": {},
   "source": [
    "###Reading csv files"
   ]
  },
  {
   "cell_type": "markdown",
   "id": "d41586e8-3096-4d28-b058-e5554c8fb1ca",
   "metadata": {},
   "source": [
    "### Reading csv files"
   ]
  },
  {
   "cell_type": "code",
   "execution_count": 13,
   "id": "a04b72a1-393c-4d1f-9dbf-130428167007",
   "metadata": {},
   "outputs": [
    {
     "name": "stdout",
     "output_type": "stream",
     "text": [
      "[{'name': 'Joe'}, {'name': 'Jihuan'}, {'name': 'Ali'}, {'name': 'Frances'}, {'name': 'Daniela V'}, {'name': 'Mostafa'}, {'name': 'Daniela P'}, {'name': 'Cesar'}, {'name': 'Jarrod'}, {'name': 'Austin'}, {'name': 'Jack'}, {'name': 'Ala'}, {'name': 'Sergii'}, {'name': 'Miles'}, {'name': 'Hyeyun'}, {'name': 'Volodymyr'}, {'name': 'Yijia'}, {'name': 'Hsin-Yun'}, {'name': 'Renata'}, {'name': 'Max'}, {'name': 'Joshua'}, {'name': 'David'}]\n"
     ]
    }
   ],
   "source": [
    "with open(csvFilePath, mode='r', newline='', encoding='utf-8-sig') as csvFile:\n",
    "    reader = csv.reader(csvFile, delimiter=',')\n",
    "    header = next(reader)\n",
    "    roster = []\n",
    "    for row in reader:\n",
    "        temp = {'name': row[0]}\n",
    "        roster.append(temp)\n",
    "print(roster)\n",
    "      \n",
    " "
   ]
  },
  {
   "cell_type": "markdown",
   "id": "9a8a1d0e-5a5c-4845-b088-b74cd20e32aa",
   "metadata": {},
   "source": [
    "Modifying the Data"
   ]
  },
  {
   "cell_type": "markdown",
   "id": "17fec83a-d87c-4a20-a5e6-2087391a4424",
   "metadata": {},
   "source": [
    "## Modifying the Data"
   ]
  },
  {
   "cell_type": "code",
   "execution_count": 14,
   "id": "5e0fe105-6b30-4929-8e48-e9fb64d8bdef",
   "metadata": {},
   "outputs": [
    {
     "name": "stdout",
     "output_type": "stream",
     "text": [
      "[{'name': 'Joe'}, {'name': 'Jihuan'}, {'name': 'Ali'}, {'name': 'Frances'}, {'name': 'Daniela V'}, {'name': 'Mostafa'}, {'name': 'Daniela P'}, {'name': 'Cesar'}, {'name': 'Jarrod'}, {'name': 'Austin'}, {'name': 'Jack'}, {'name': 'Ala'}, {'name': 'Sergii'}, {'name': 'Miles'}, {'name': 'Hyeyun'}, {'name': 'Volodymyr'}, {'name': 'Yijia'}, {'name': 'Hsin-Yun'}, {'name': 'Renata'}, {'name': 'Max'}, {'name': 'Joshua'}, {'name': 'David'}, {'name': 'Wally'}]\n"
     ]
    }
   ],
   "source": [
    "roster.append({'name': 'Wally'})\n",
    "print(roster)"
   ]
  },
  {
   "cell_type": "markdown",
   "id": "4c0dcacf-047f-4cc6-9881-738e6f1bcac8",
   "metadata": {},
   "source": [
    "Assign grades"
   ]
  },
  {
   "cell_type": "code",
   "execution_count": 17,
   "id": "70ae417f-9cf4-4217-9c8b-ad95e5cdefc4",
   "metadata": {},
   "outputs": [],
   "source": [
    "random.seed(1)"
   ]
  },
  {
   "cell_type": "code",
   "execution_count": 18,
   "id": "dd35cbd6-6560-4c45-ad81-ce631c6c82aa",
   "metadata": {},
   "outputs": [
    {
     "name": "stdout",
     "output_type": "stream",
     "text": [
      "{'name': 'Joe', 'grade': 17}\n",
      "{'name': 'Jihuan', 'grade': 72}\n",
      "{'name': 'Ali', 'grade': 97}\n",
      "{'name': 'Frances', 'grade': 8}\n",
      "{'name': 'Daniela V', 'grade': 32}\n",
      "{'name': 'Mostafa', 'grade': 15}\n",
      "{'name': 'Daniela P', 'grade': 63}\n",
      "{'name': 'Cesar', 'grade': 97}\n",
      "{'name': 'Jarrod', 'grade': 57}\n",
      "{'name': 'Austin', 'grade': 60}\n",
      "{'name': 'Jack', 'grade': 83}\n",
      "{'name': 'Ala', 'grade': 48}\n",
      "{'name': 'Sergii', 'grade': 100}\n",
      "{'name': 'Miles', 'grade': 26}\n",
      "{'name': 'Hyeyun', 'grade': 12}\n",
      "{'name': 'Volodymyr', 'grade': 62}\n",
      "{'name': 'Yijia', 'grade': 3}\n",
      "{'name': 'Hsin-Yun', 'grade': 49}\n",
      "{'name': 'Renata', 'grade': 55}\n",
      "{'name': 'Max', 'grade': 77}\n",
      "{'name': 'Joshua', 'grade': 97}\n",
      "{'name': 'David', 'grade': 98}\n",
      "{'name': 'Wally', 'grade': 0}\n"
     ]
    }
   ],
   "source": [
    "for student in roster:\n",
    "    student['grade'] = random.randint(0,100)\n",
    "    print(student)"
   ]
  },
  {
   "cell_type": "code",
   "execution_count": 19,
   "id": "76d954b9-e272-43a7-abab-405c7f711bd5",
   "metadata": {},
   "outputs": [],
   "source": [
    "def compute_mean(values):\n",
    "    n = len(values)\n",
    "    result = sum(values)/n\n",
    "    return result"
   ]
  },
  {
   "cell_type": "code",
   "execution_count": 20,
   "id": "a6450532-465a-498b-ae63-e14cd7fc7777",
   "metadata": {},
   "outputs": [
    {
     "name": "stdout",
     "output_type": "stream",
     "text": [
      "[17, 72, 97, 8, 32, 15, 63, 97, 57, 60, 83, 48, 100, 26, 12, 62, 3, 49, 55, 77, 97, 98, 0]\n"
     ]
    }
   ],
   "source": [
    "grades = []\n",
    "for student in roster:\n",
    "    grade = student['grade']\n",
    "    grades.append(grade)\n",
    "    \n",
    "print(grades)"
   ]
  },
  {
   "cell_type": "code",
   "execution_count": 21,
   "id": "8e135db9-4870-41e1-b818-05d761d8bd58",
   "metadata": {},
   "outputs": [
    {
     "name": "stdout",
     "output_type": "stream",
     "text": [
      "53.391304347826086\n"
     ]
    }
   ],
   "source": [
    "mean = compute_mean(grades)\n",
    "print(mean)"
   ]
  },
  {
   "cell_type": "markdown",
   "id": "9f3cc8f8-4dff-4f6d-9b98-f8bc69c99277",
   "metadata": {},
   "source": [
    "Edit specific row/student"
   ]
  },
  {
   "cell_type": "code",
   "execution_count": 22,
   "id": "55d60fc8-5a3b-4d34-bbb2-c389f015f176",
   "metadata": {},
   "outputs": [
    {
     "name": "stdout",
     "output_type": "stream",
     "text": [
      "[{'name': 'Joe', 'grade': 17}, {'name': 'Jihuan', 'grade': 72}, {'name': 'Ali', 'grade': 97}, {'name': 'Frances', 'grade': 8}, {'name': 'Daniela V', 'grade': 32}, {'name': 'Mostafa', 'grade': 15}, {'name': 'Daniela P', 'grade': 100}, {'name': 'Cesar', 'grade': 97}, {'name': 'Jarrod', 'grade': 57}, {'name': 'Austin', 'grade': 60}, {'name': 'Jack', 'grade': 83}, {'name': 'Ala', 'grade': 48}, {'name': 'Sergii', 'grade': 100}, {'name': 'Miles', 'grade': 26}, {'name': 'Hyeyun', 'grade': 12}, {'name': 'Volodymyr', 'grade': 62}, {'name': 'Yijia', 'grade': 3}, {'name': 'Hsin-Yun', 'grade': 49}, {'name': 'Renata', 'grade': 55}, {'name': 'Max', 'grade': 77}, {'name': 'Joshua', 'grade': 97}, {'name': 'David', 'grade': 98}, {'name': 'Wally', 'grade': 0}]\n"
     ]
    }
   ],
   "source": [
    "for student in roster:\n",
    "    if student['name'] == 'Daniela P':\n",
    "        student['grade'] = 100\n",
    "        \n",
    "print(roster)"
   ]
  },
  {
   "cell_type": "code",
   "execution_count": 23,
   "id": "27ecff88-8d19-4047-8ace-318b124fbf27",
   "metadata": {},
   "outputs": [
    {
     "name": "stdout",
     "output_type": "stream",
     "text": [
      "{'name': 'Joe', 'grade': 57}\n",
      "{'name': 'Jihuan', 'grade': 72}\n",
      "{'name': 'Ali', 'grade': 97}\n",
      "{'name': 'Frances', 'grade': 48}\n",
      "{'name': 'Daniela V', 'grade': 72}\n",
      "{'name': 'Mostafa', 'grade': 55}\n",
      "{'name': 'Daniela P', 'grade': 100}\n",
      "{'name': 'Cesar', 'grade': 97}\n",
      "{'name': 'Jarrod', 'grade': 57}\n",
      "{'name': 'Austin', 'grade': 60}\n",
      "{'name': 'Jack', 'grade': 83}\n",
      "{'name': 'Ala', 'grade': 88}\n",
      "{'name': 'Sergii', 'grade': 100}\n",
      "{'name': 'Miles', 'grade': 66}\n",
      "{'name': 'Hyeyun', 'grade': 52}\n",
      "{'name': 'Volodymyr', 'grade': 62}\n",
      "{'name': 'Yijia', 'grade': 43}\n",
      "{'name': 'Hsin-Yun', 'grade': 89}\n",
      "{'name': 'Renata', 'grade': 55}\n",
      "{'name': 'Max', 'grade': 77}\n",
      "{'name': 'Joshua', 'grade': 97}\n",
      "{'name': 'David', 'grade': 98}\n",
      "{'name': 'Wally', 'grade': 40}\n"
     ]
    }
   ],
   "source": [
    "for student in roster:\n",
    "    if student['grade'] < 50:\n",
    "        student['grade'] = student['grade'] + 40\n",
    "    print(student)"
   ]
  },
  {
   "cell_type": "code",
   "execution_count": 24,
   "id": "a27b7f26-da0a-46d0-b9c1-7a952cc178b2",
   "metadata": {},
   "outputs": [
    {
     "name": "stdout",
     "output_type": "stream",
     "text": [
      "[57, 72, 97, 48, 72, 55, 100, 97, 57, 60, 83, 88, 100, 66, 52, 62, 43, 89, 55, 77, 97, 98, 40]\n"
     ]
    }
   ],
   "source": [
    "# list comprehension\n",
    "grades = [student['grade'] for student in roster]\n",
    "print(grades)"
   ]
  },
  {
   "cell_type": "code",
   "execution_count": 25,
   "id": "348712f0-1056-42b3-84ae-5807861d7a0a",
   "metadata": {},
   "outputs": [
    {
     "name": "stdout",
     "output_type": "stream",
     "text": [
      "72.3913043478261\n"
     ]
    }
   ],
   "source": [
    "average = compute_mean(grades)\n",
    "print(average)"
   ]
  },
  {
   "cell_type": "code",
   "execution_count": null,
   "id": "e54bc631-13db-463d-8163-0c7f6d84cde6",
   "metadata": {},
   "outputs": [],
   "source": []
  }
 ],
 "metadata": {
  "kernelspec": {
   "display_name": "Python 3",
   "language": "python",
   "name": "python3"
  },
  "language_info": {
   "codemirror_mode": {
    "name": "ipython",
    "version": 3
   },
   "file_extension": ".py",
   "mimetype": "text/x-python",
   "name": "python",
   "nbconvert_exporter": "python",
   "pygments_lexer": "ipython3",
   "version": "3.9.5"
  }
 },
 "nbformat": 4,
 "nbformat_minor": 5
}
